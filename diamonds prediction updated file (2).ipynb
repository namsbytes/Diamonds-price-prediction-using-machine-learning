{
 "cells": [
  {
   "cell_type": "markdown",
   "id": "47b2e07b",
   "metadata": {},
   "source": [
    "# MACHINE LEARNING PROJECT"
   ]
  },
  {
   "cell_type": "markdown",
   "id": "4cc9665d",
   "metadata": {},
   "source": [
    "# Project Name: Diamond Price Prediction Using Machine Learning"
   ]
  },
  {
   "cell_type": "markdown",
   "id": "923f5b2e",
   "metadata": {},
   "source": [
    "# Project by- Namrata Milind Vakare"
   ]
  },
  {
   "cell_type": "markdown",
   "id": "63ab7056",
   "metadata": {},
   "source": [
    
   ]
  },
  {
   "cell_type": "markdown",
   "id": "1d69e90d",
   "metadata": {},
   "source": [
    "# Abstract\n",
    "Diamonds are one of the most powerful, precious and treasured naturally occurring materials that form from pre-historic carbon. Nevertheless, as opposed to gold and silver, diamond pricing is very complicated as there are many features to consider when determining the price. The aim of this project remains to put forth a more optimal solution for the purpose of diamond price projection. This involves training a distinct machine learning model on the available diamond dataset to predict diamond prices established by considering several attributes using algorithms such as linear regression, decision trees, and K-nearest neighbours. In addition, a correlative survey of different machine learning regression models is executed for the purpose of diamond price prediction."
   ]
  },
  {
   "cell_type": "code",
   "execution_count": 1,
   "id": "5590c237",
   "metadata": {},
   "outputs": [],
   "source": [
    "#importing libraries that are essential for the project.\n",
    "import pandas as pd\n",
    "import numpy as np\n",
    "import seaborn as sns\n",
    "import matplotlib.pyplot as plt\n",
    "import warnings"
   ]
  },
  {
   "cell_type": "code",
   "execution_count": 2,
   "id": "6d6d9a51",
   "metadata": {},
   "outputs": [
    {
     "data": {
      "text/html": [
       "<div>\n",
       "<style scoped>\n",
       "    .dataframe tbody tr th:only-of-type {\n",
       "        vertical-align: middle;\n",
       "    }\n",
       "\n",
       "    .dataframe tbody tr th {\n",
       "        vertical-align: top;\n",
       "    }\n",
       "\n",
       "    .dataframe thead th {\n",
       "        text-align: right;\n",
       "    }\n",
       "</style>\n",
       "<table border=\"1\" class=\"dataframe\">\n",
       "  <thead>\n",
       "    <tr style=\"text-align: right;\">\n",
       "      <th></th>\n",
       "      <th>price</th>\n",
       "      <th>carat</th>\n",
       "      <th>cut</th>\n",
       "      <th>color</th>\n",
       "      <th>clarity</th>\n",
       "      <th>depth</th>\n",
       "      <th>table</th>\n",
       "      <th>x</th>\n",
       "      <th>y</th>\n",
       "      <th>z</th>\n",
       "    </tr>\n",
       "  </thead>\n",
       "  <tbody>\n",
       "    <tr>\n",
       "      <th>0</th>\n",
       "      <td>326</td>\n",
       "      <td>0.23</td>\n",
       "      <td>Ideal</td>\n",
       "      <td>E</td>\n",
       "      <td>SI2</td>\n",
       "      <td>61.5</td>\n",
       "      <td>55.0</td>\n",
       "      <td>3.95</td>\n",
       "      <td>3.98</td>\n",
       "      <td>2.43</td>\n",
       "    </tr>\n",
       "    <tr>\n",
       "      <th>1</th>\n",
       "      <td>326</td>\n",
       "      <td>0.21</td>\n",
       "      <td>Premium</td>\n",
       "      <td>E</td>\n",
       "      <td>SI1</td>\n",
       "      <td>59.8</td>\n",
       "      <td>61.0</td>\n",
       "      <td>3.89</td>\n",
       "      <td>3.84</td>\n",
       "      <td>2.31</td>\n",
       "    </tr>\n",
       "    <tr>\n",
       "      <th>2</th>\n",
       "      <td>327</td>\n",
       "      <td>0.23</td>\n",
       "      <td>Good</td>\n",
       "      <td>E</td>\n",
       "      <td>VS1</td>\n",
       "      <td>56.9</td>\n",
       "      <td>65.0</td>\n",
       "      <td>4.05</td>\n",
       "      <td>4.07</td>\n",
       "      <td>2.31</td>\n",
       "    </tr>\n",
       "    <tr>\n",
       "      <th>3</th>\n",
       "      <td>334</td>\n",
       "      <td>0.29</td>\n",
       "      <td>Premium</td>\n",
       "      <td>I</td>\n",
       "      <td>VS2</td>\n",
       "      <td>62.4</td>\n",
       "      <td>58.0</td>\n",
       "      <td>4.20</td>\n",
       "      <td>4.23</td>\n",
       "      <td>2.63</td>\n",
       "    </tr>\n",
       "    <tr>\n",
       "      <th>4</th>\n",
       "      <td>335</td>\n",
       "      <td>0.31</td>\n",
       "      <td>Good</td>\n",
       "      <td>J</td>\n",
       "      <td>SI2</td>\n",
       "      <td>63.3</td>\n",
       "      <td>58.0</td>\n",
       "      <td>4.34</td>\n",
       "      <td>4.35</td>\n",
       "      <td>2.75</td>\n",
       "    </tr>\n",
       "    <tr>\n",
       "      <th>...</th>\n",
       "      <td>...</td>\n",
       "      <td>...</td>\n",
       "      <td>...</td>\n",
       "      <td>...</td>\n",
       "      <td>...</td>\n",
       "      <td>...</td>\n",
       "      <td>...</td>\n",
       "      <td>...</td>\n",
       "      <td>...</td>\n",
       "      <td>...</td>\n",
       "    </tr>\n",
       "    <tr>\n",
       "      <th>53935</th>\n",
       "      <td>2757</td>\n",
       "      <td>0.72</td>\n",
       "      <td>Ideal</td>\n",
       "      <td>D</td>\n",
       "      <td>SI1</td>\n",
       "      <td>60.8</td>\n",
       "      <td>57.0</td>\n",
       "      <td>5.75</td>\n",
       "      <td>5.76</td>\n",
       "      <td>3.50</td>\n",
       "    </tr>\n",
       "    <tr>\n",
       "      <th>53936</th>\n",
       "      <td>2757</td>\n",
       "      <td>0.72</td>\n",
       "      <td>Good</td>\n",
       "      <td>D</td>\n",
       "      <td>SI1</td>\n",
       "      <td>63.1</td>\n",
       "      <td>55.0</td>\n",
       "      <td>5.69</td>\n",
       "      <td>5.75</td>\n",
       "      <td>3.61</td>\n",
       "    </tr>\n",
       "    <tr>\n",
       "      <th>53937</th>\n",
       "      <td>2757</td>\n",
       "      <td>0.70</td>\n",
       "      <td>Very Good</td>\n",
       "      <td>D</td>\n",
       "      <td>SI1</td>\n",
       "      <td>62.8</td>\n",
       "      <td>60.0</td>\n",
       "      <td>5.66</td>\n",
       "      <td>5.68</td>\n",
       "      <td>3.56</td>\n",
       "    </tr>\n",
       "    <tr>\n",
       "      <th>53938</th>\n",
       "      <td>2757</td>\n",
       "      <td>0.86</td>\n",
       "      <td>Premium</td>\n",
       "      <td>H</td>\n",
       "      <td>SI2</td>\n",
       "      <td>61.0</td>\n",
       "      <td>58.0</td>\n",
       "      <td>6.15</td>\n",
       "      <td>6.12</td>\n",
       "      <td>3.74</td>\n",
       "    </tr>\n",
       "    <tr>\n",
       "      <th>53939</th>\n",
       "      <td>2757</td>\n",
       "      <td>0.75</td>\n",
       "      <td>Ideal</td>\n",
       "      <td>D</td>\n",
       "      <td>SI2</td>\n",
       "      <td>62.2</td>\n",
       "      <td>55.0</td>\n",
       "      <td>5.83</td>\n",
       "      <td>5.87</td>\n",
       "      <td>3.64</td>\n",
       "    </tr>\n",
       "  </tbody>\n",
       "</table>\n",
       "<p>53940 rows × 10 columns</p>\n",
       "</div>"
      ],
      "text/plain": [
       "       price  carat        cut color clarity  depth  table     x     y     z\n",
       "0        326   0.23      Ideal     E     SI2   61.5   55.0  3.95  3.98  2.43\n",
       "1        326   0.21    Premium     E     SI1   59.8   61.0  3.89  3.84  2.31\n",
       "2        327   0.23       Good     E     VS1   56.9   65.0  4.05  4.07  2.31\n",
       "3        334   0.29    Premium     I     VS2   62.4   58.0  4.20  4.23  2.63\n",
       "4        335   0.31       Good     J     SI2   63.3   58.0  4.34  4.35  2.75\n",
       "...      ...    ...        ...   ...     ...    ...    ...   ...   ...   ...\n",
       "53935   2757   0.72      Ideal     D     SI1   60.8   57.0  5.75  5.76  3.50\n",
       "53936   2757   0.72       Good     D     SI1   63.1   55.0  5.69  5.75  3.61\n",
       "53937   2757   0.70  Very Good     D     SI1   62.8   60.0  5.66  5.68  3.56\n",
       "53938   2757   0.86    Premium     H     SI2   61.0   58.0  6.15  6.12  3.74\n",
       "53939   2757   0.75      Ideal     D     SI2   62.2   55.0  5.83  5.87  3.64\n",
       "\n",
       "[53940 rows x 10 columns]"
      ]
     },
     "execution_count": 2,
     "metadata": {},
     "output_type": "execute_result"
    }
   ],
   "source": [
    "# loading the dataset\n",
    "data=pd.read_csv(\"diamonds2.csv\")\n",
    "data"
   ]
  },
  {
   "cell_type": "markdown",
   "id": "4f49671c",
   "metadata": {},
   "source": [
    "# What are the columns x,y,z?\n",
    "In the context of a diamond dataset, the columns labeled 'x', 'y', and 'z' typically represent the dimensions of the diamonds:\n",
    "\n",
    "x: Length of the diamond in millimeters.\n",
    "y: Width of the diamond in millimeters.\n",
    "z: Depth of the diamond in millimeters.\n",
    "These dimensions are essential in determining the physical size and shape of the diamond. The combination of these three measurements, along with other factors like carat, cut, color, and clarity, contributes to the overall assessment of a diamond's quality and value."
   ]
  },
  {
   "cell_type": "code",
   "execution_count": 3,
   "id": "3f594fce",
   "metadata": {},
   "outputs": [
    {
     "data": {
      "text/html": [
       "<div>\n",
       "<style scoped>\n",
       "    .dataframe tbody tr th:only-of-type {\n",
       "        vertical-align: middle;\n",
       "    }\n",
       "\n",
       "    .dataframe tbody tr th {\n",
       "        vertical-align: top;\n",
       "    }\n",
       "\n",
       "    .dataframe thead th {\n",
       "        text-align: right;\n",
       "    }\n",
       "</style>\n",
       "<table border=\"1\" class=\"dataframe\">\n",
       "  <thead>\n",
       "    <tr style=\"text-align: right;\">\n",
       "      <th></th>\n",
       "      <th>price</th>\n",
       "      <th>carat</th>\n",
       "      <th>cut</th>\n",
       "      <th>color</th>\n",
       "      <th>clarity</th>\n",
       "      <th>depth</th>\n",
       "      <th>table</th>\n",
       "      <th>x</th>\n",
       "      <th>y</th>\n",
       "      <th>z</th>\n",
       "    </tr>\n",
       "  </thead>\n",
       "  <tbody>\n",
       "    <tr>\n",
       "      <th>0</th>\n",
       "      <td>326</td>\n",
       "      <td>0.23</td>\n",
       "      <td>Ideal</td>\n",
       "      <td>E</td>\n",
       "      <td>SI2</td>\n",
       "      <td>61.5</td>\n",
       "      <td>55.0</td>\n",
       "      <td>3.95</td>\n",
       "      <td>3.98</td>\n",
       "      <td>2.43</td>\n",
       "    </tr>\n",
       "    <tr>\n",
       "      <th>1</th>\n",
       "      <td>326</td>\n",
       "      <td>0.21</td>\n",
       "      <td>Premium</td>\n",
       "      <td>E</td>\n",
       "      <td>SI1</td>\n",
       "      <td>59.8</td>\n",
       "      <td>61.0</td>\n",
       "      <td>3.89</td>\n",
       "      <td>3.84</td>\n",
       "      <td>2.31</td>\n",
       "    </tr>\n",
       "    <tr>\n",
       "      <th>2</th>\n",
       "      <td>327</td>\n",
       "      <td>0.23</td>\n",
       "      <td>Good</td>\n",
       "      <td>E</td>\n",
       "      <td>VS1</td>\n",
       "      <td>56.9</td>\n",
       "      <td>65.0</td>\n",
       "      <td>4.05</td>\n",
       "      <td>4.07</td>\n",
       "      <td>2.31</td>\n",
       "    </tr>\n",
       "    <tr>\n",
       "      <th>3</th>\n",
       "      <td>334</td>\n",
       "      <td>0.29</td>\n",
       "      <td>Premium</td>\n",
       "      <td>I</td>\n",
       "      <td>VS2</td>\n",
       "      <td>62.4</td>\n",
       "      <td>58.0</td>\n",
       "      <td>4.20</td>\n",
       "      <td>4.23</td>\n",
       "      <td>2.63</td>\n",
       "    </tr>\n",
       "    <tr>\n",
       "      <th>4</th>\n",
       "      <td>335</td>\n",
       "      <td>0.31</td>\n",
       "      <td>Good</td>\n",
       "      <td>J</td>\n",
       "      <td>SI2</td>\n",
       "      <td>63.3</td>\n",
       "      <td>58.0</td>\n",
       "      <td>4.34</td>\n",
       "      <td>4.35</td>\n",
       "      <td>2.75</td>\n",
       "    </tr>\n",
       "  </tbody>\n",
       "</table>\n",
       "</div>"
      ],
      "text/plain": [
       "   price  carat      cut color clarity  depth  table     x     y     z\n",
       "0    326   0.23    Ideal     E     SI2   61.5   55.0  3.95  3.98  2.43\n",
       "1    326   0.21  Premium     E     SI1   59.8   61.0  3.89  3.84  2.31\n",
       "2    327   0.23     Good     E     VS1   56.9   65.0  4.05  4.07  2.31\n",
       "3    334   0.29  Premium     I     VS2   62.4   58.0  4.20  4.23  2.63\n",
       "4    335   0.31     Good     J     SI2   63.3   58.0  4.34  4.35  2.75"
      ]
     },
     "execution_count": 3,
     "metadata": {},
     "output_type": "execute_result"
    }
   ],
   "source": [
    "# Displays default first 5 rows.\n",
    "data.head()"
   ]
  },
  {
   "cell_type": "code",
   "execution_count": 4,
   "id": "72a36368",
   "metadata": {},
   "outputs": [
    {
     "data": {
      "text/html": [
       "<div>\n",
       "<style scoped>\n",
       "    .dataframe tbody tr th:only-of-type {\n",
       "        vertical-align: middle;\n",
       "    }\n",
       "\n",
       "    .dataframe tbody tr th {\n",
       "        vertical-align: top;\n",
       "    }\n",
       "\n",
       "    .dataframe thead th {\n",
       "        text-align: right;\n",
       "    }\n",
       "</style>\n",
       "<table border=\"1\" class=\"dataframe\">\n",
       "  <thead>\n",
       "    <tr style=\"text-align: right;\">\n",
       "      <th></th>\n",
       "      <th>price</th>\n",
       "      <th>carat</th>\n",
       "      <th>depth</th>\n",
       "      <th>table</th>\n",
       "      <th>x</th>\n",
       "      <th>y</th>\n",
       "      <th>z</th>\n",
       "    </tr>\n",
       "  </thead>\n",
       "  <tbody>\n",
       "    <tr>\n",
       "      <th>count</th>\n",
       "      <td>53940.000000</td>\n",
       "      <td>53940.000000</td>\n",
       "      <td>53940.000000</td>\n",
       "      <td>53940.000000</td>\n",
       "      <td>53940.000000</td>\n",
       "      <td>53940.000000</td>\n",
       "      <td>53940.000000</td>\n",
       "    </tr>\n",
       "    <tr>\n",
       "      <th>mean</th>\n",
       "      <td>3932.799722</td>\n",
       "      <td>0.797940</td>\n",
       "      <td>61.749405</td>\n",
       "      <td>57.457184</td>\n",
       "      <td>5.731157</td>\n",
       "      <td>5.734526</td>\n",
       "      <td>3.538734</td>\n",
       "    </tr>\n",
       "    <tr>\n",
       "      <th>std</th>\n",
       "      <td>3989.439738</td>\n",
       "      <td>0.474011</td>\n",
       "      <td>1.432621</td>\n",
       "      <td>2.234491</td>\n",
       "      <td>1.121761</td>\n",
       "      <td>1.142135</td>\n",
       "      <td>0.705699</td>\n",
       "    </tr>\n",
       "    <tr>\n",
       "      <th>min</th>\n",
       "      <td>326.000000</td>\n",
       "      <td>0.200000</td>\n",
       "      <td>43.000000</td>\n",
       "      <td>43.000000</td>\n",
       "      <td>0.000000</td>\n",
       "      <td>0.000000</td>\n",
       "      <td>0.000000</td>\n",
       "    </tr>\n",
       "    <tr>\n",
       "      <th>25%</th>\n",
       "      <td>950.000000</td>\n",
       "      <td>0.400000</td>\n",
       "      <td>61.000000</td>\n",
       "      <td>56.000000</td>\n",
       "      <td>4.710000</td>\n",
       "      <td>4.720000</td>\n",
       "      <td>2.910000</td>\n",
       "    </tr>\n",
       "    <tr>\n",
       "      <th>50%</th>\n",
       "      <td>2401.000000</td>\n",
       "      <td>0.700000</td>\n",
       "      <td>61.800000</td>\n",
       "      <td>57.000000</td>\n",
       "      <td>5.700000</td>\n",
       "      <td>5.710000</td>\n",
       "      <td>3.530000</td>\n",
       "    </tr>\n",
       "    <tr>\n",
       "      <th>75%</th>\n",
       "      <td>5324.250000</td>\n",
       "      <td>1.040000</td>\n",
       "      <td>62.500000</td>\n",
       "      <td>59.000000</td>\n",
       "      <td>6.540000</td>\n",
       "      <td>6.540000</td>\n",
       "      <td>4.040000</td>\n",
       "    </tr>\n",
       "    <tr>\n",
       "      <th>max</th>\n",
       "      <td>18823.000000</td>\n",
       "      <td>5.010000</td>\n",
       "      <td>79.000000</td>\n",
       "      <td>95.000000</td>\n",
       "      <td>10.740000</td>\n",
       "      <td>58.900000</td>\n",
       "      <td>31.800000</td>\n",
       "    </tr>\n",
       "  </tbody>\n",
       "</table>\n",
       "</div>"
      ],
      "text/plain": [
       "              price         carat         depth         table             x  \\\n",
       "count  53940.000000  53940.000000  53940.000000  53940.000000  53940.000000   \n",
       "mean    3932.799722      0.797940     61.749405     57.457184      5.731157   \n",
       "std     3989.439738      0.474011      1.432621      2.234491      1.121761   \n",
       "min      326.000000      0.200000     43.000000     43.000000      0.000000   \n",
       "25%      950.000000      0.400000     61.000000     56.000000      4.710000   \n",
       "50%     2401.000000      0.700000     61.800000     57.000000      5.700000   \n",
       "75%     5324.250000      1.040000     62.500000     59.000000      6.540000   \n",
       "max    18823.000000      5.010000     79.000000     95.000000     10.740000   \n",
       "\n",
       "                  y             z  \n",
       "count  53940.000000  53940.000000  \n",
       "mean       5.734526      3.538734  \n",
       "std        1.142135      0.705699  \n",
       "min        0.000000      0.000000  \n",
       "25%        4.720000      2.910000  \n",
       "50%        5.710000      3.530000  \n",
       "75%        6.540000      4.040000  \n",
       "max       58.900000     31.800000  "
      ]
     },
     "execution_count": 4,
     "metadata": {},
     "output_type": "execute_result"
    }
   ],
   "source": [
    "# gives the description of main statistical measures.\n",
    "data.describe()"
   ]
  },
  {
   "cell_type": "code",
   "execution_count": 5,
   "id": "20d9ec36",
   "metadata": {},
   "outputs": [
    {
     "data": {
      "text/plain": [
       "price      0\n",
       "carat      0\n",
       "cut        0\n",
       "color      0\n",
       "clarity    0\n",
       "depth      0\n",
       "table      0\n",
       "x          0\n",
       "y          0\n",
       "z          0\n",
       "dtype: int64"
      ]
     },
     "execution_count": 5,
     "metadata": {},
     "output_type": "execute_result"
    }
   ],
   "source": [
    "#This part calculates the sum of True values for each column, effectively counting the number of missing values in each column. \n",
    "data.isnull().sum()"
   ]
  },
  {
   "cell_type": "code",
   "execution_count": 6,
   "id": "d377942d",
   "metadata": {},
   "outputs": [
    {
     "name": "stdout",
     "output_type": "stream",
     "text": [
      "<class 'pandas.core.frame.DataFrame'>\n",
      "RangeIndex: 53940 entries, 0 to 53939\n",
      "Data columns (total 10 columns):\n",
      " #   Column   Non-Null Count  Dtype  \n",
      "---  ------   --------------  -----  \n",
      " 0   price    53940 non-null  int64  \n",
      " 1   carat    53940 non-null  float64\n",
      " 2   cut      53940 non-null  object \n",
      " 3   color    53940 non-null  object \n",
      " 4   clarity  53940 non-null  object \n",
      " 5   depth    53940 non-null  float64\n",
      " 6   table    53940 non-null  float64\n",
      " 7   x        53940 non-null  float64\n",
      " 8   y        53940 non-null  float64\n",
      " 9   z        53940 non-null  float64\n",
      "dtypes: float64(6), int64(1), object(3)\n",
      "memory usage: 4.1+ MB\n"
     ]
    }
   ],
   "source": [
    "# provides the information about information about the DataFrame's structure, data types, and memory usage. \n",
    "data.info()"
   ]
  },
  {
   "cell_type": "code",
   "execution_count": 7,
   "id": "c02afa92",
   "metadata": {},
   "outputs": [],
   "source": [
    "#This line is used to remove or drop specific columns from the DataFrame.\n",
    "data=data.drop(['depth','table','x','y','z'],axis=1)"
   ]
  },
  {
   "cell_type": "markdown",
   "id": "3bd7ee07",
   "metadata": {},
   "source": [
    "# Reason for dropping columns from the data\n",
    "Irrelevance: These certain columns do not contribute significantly to the prediction task or analysis, they have to be dropped to simplify the model and improve computational efficiency. For example, the 'table' column does not have a strong impact on predicting diamond prices compared to other features.\n",
    "\n",
    "Focusing on Important Features:  On the basis of goals of the analysis, we want to focus on the most important features that have a substantial impact on the target variable. This can enhance the model's interpretability and generalization.\n"
   ]
  },
  {
   "cell_type": "code",
   "execution_count": 8,
   "id": "064b1777",
   "metadata": {},
   "outputs": [
    {
     "data": {
      "text/html": [
       "<div>\n",
       "<style scoped>\n",
       "    .dataframe tbody tr th:only-of-type {\n",
       "        vertical-align: middle;\n",
       "    }\n",
       "\n",
       "    .dataframe tbody tr th {\n",
       "        vertical-align: top;\n",
       "    }\n",
       "\n",
       "    .dataframe thead th {\n",
       "        text-align: right;\n",
       "    }\n",
       "</style>\n",
       "<table border=\"1\" class=\"dataframe\">\n",
       "  <thead>\n",
       "    <tr style=\"text-align: right;\">\n",
       "      <th></th>\n",
       "      <th>price</th>\n",
       "      <th>carat</th>\n",
       "      <th>cut</th>\n",
       "      <th>color</th>\n",
       "      <th>clarity</th>\n",
       "    </tr>\n",
       "  </thead>\n",
       "  <tbody>\n",
       "    <tr>\n",
       "      <th>0</th>\n",
       "      <td>326</td>\n",
       "      <td>0.23</td>\n",
       "      <td>Ideal</td>\n",
       "      <td>E</td>\n",
       "      <td>SI2</td>\n",
       "    </tr>\n",
       "    <tr>\n",
       "      <th>1</th>\n",
       "      <td>326</td>\n",
       "      <td>0.21</td>\n",
       "      <td>Premium</td>\n",
       "      <td>E</td>\n",
       "      <td>SI1</td>\n",
       "    </tr>\n",
       "  </tbody>\n",
       "</table>\n",
       "</div>"
      ],
      "text/plain": [
       "   price  carat      cut color clarity\n",
       "0    326   0.23    Ideal     E     SI2\n",
       "1    326   0.21  Premium     E     SI1"
      ]
     },
     "execution_count": 8,
     "metadata": {},
     "output_type": "execute_result"
    }
   ],
   "source": [
    "#This line is used to check whether the columns are properly removed or not.\n",
    "data.head(2)"
   ]
  },
  {
   "cell_type": "code",
   "execution_count": 9,
   "id": "1ee8003f",
   "metadata": {},
   "outputs": [
    {
     "data": {
      "text/plain": [
       "price        int64\n",
       "carat      float64\n",
       "cut         object\n",
       "color       object\n",
       "clarity     object\n",
       "dtype: object"
      ]
     },
     "execution_count": 9,
     "metadata": {},
     "output_type": "execute_result"
    }
   ],
   "source": [
    "# States the type of data present for each and every column.\n",
    "data.dtypes"
   ]
  },
  {
   "cell_type": "code",
   "execution_count": 10,
   "id": "f403f235",
   "metadata": {},
   "outputs": [
    {
     "data": {
      "text/plain": [
       "price      float64\n",
       "carat      float64\n",
       "cut         object\n",
       "color       object\n",
       "clarity     object\n",
       "dtype: object"
      ]
     },
     "execution_count": 10,
     "metadata": {},
     "output_type": "execute_result"
    }
   ],
   "source": [
    "#Here we have converted the datatype of price column from integer to float because it consists of decimal values.\n",
    "data[\"price\"]=data.price.astype(float)\n",
    "data.dtypes"
   ]
  },
  {
   "cell_type": "markdown",
   "id": "0426f6ec",
   "metadata": {},
   "source": [
    "# Data Visualization"
   ]
  },
  {
   "cell_type": "markdown",
   "id": "36d5a042",
   "metadata": {},
   "source": [
    "# histogram\n",
    "Distribution of Diamond Carat Weight:\n",
    "\n",
    "The distribution of carat weight is right-skewed, with a higher frequency of smaller carat weights. This is expected, as larger diamonds are rarer and, therefore, more valuable.\n",
    "Diamond Price Distribution:\n",
    "\n",
    "The distribution of diamond prices is also right-skewed, indicating that there are more diamonds with lower prices. This aligns with the typical pricing structure of diamonds."
   ]
  },
  {
   "cell_type": "code",
   "execution_count": 11,
   "id": "77db5054",
   "metadata": {},
   "outputs": [
    {
     "data": {
      "text/plain": [
       "Text(0.5, 1.0, 'Diamond Price Distribution')"
      ]
     },
     "execution_count": 11,
     "metadata": {},
     "output_type": "execute_result"
    },
    {
     "data": {
      "image/png": "[encoded data removed]",
      "text/plain": [
       "<Figure size 864x864 with 2 Axes>"
      ]
     },
     "metadata": {
      "needs_background": "light"
     },
     "output_type": "display_data"
    }
   ],
   "source": [
    "#In this step we will set the figsize and decide how much bins we want and in which colour,we are also giving heading for x axis, y axis and giving the title for the whole graph.\n",
    "plt.figure(figsize=[12,12])\n",
    "plt.subplot(221)\n",
    "#carat weight distribution\n",
    "plt.hist(data['carat'],bins=20,color='blue')\n",
    "plt.xlabel(\"Carat Weight\")\n",
    "plt.xlabel(\"Frequency\")\n",
    "plt.title(\"Distribution of diamond carat weight\")\n",
    "plt.subplot(222)\n",
    "#distribution of price value\n",
    "plt.hist(data['price'],bins=20,color='red')\n",
    "plt.xlabel(\"Diamond Price\")\n",
    "plt.xlabel(\"Frequency\")\n",
    "plt.title(\"Diamond Price Distribution\")\n"
   ]
  },
  {
   "cell_type": "markdown",
   "id": "f614de55",
   "metadata": {},
   "source": [
    "# pie chart\n",
    "Distribution of Diamond Colors:\n",
    "\n",
    "The pie chart shows the distribution of diamond colors. The majority of diamonds seem to fall into specific color categories. Understanding the distribution of colors is important for evaluating the overall diversity in the dataset."
   ]
  },
  {
   "cell_type": "code",
   "execution_count": 12,
   "id": "b610d496",
   "metadata": {},
   "outputs": [
    {
     "data": {
      "text/plain": [
       "Text(0.5, 1.0, 'Distribution of Diamond Colors')"
      ]
     },
     "execution_count": 12,
     "metadata": {},
     "output_type": "execute_result"
    },
    {
     "data": {
      "image/png": "[encoded data removed]",
      "text/plain": [
       "<Figure size 432x288 with 1 Axes>"
      ]
     },
     "metadata": {},
     "output_type": "display_data"
    }
   ],
   "source": [
    "plt.subplot\n",
    "colors = sns.color_palette('pastel')[0:len(data['color'].unique())]\n",
    "data['color'].value_counts().plot.pie(autopct='%1.1f%%', colors=colors)\n",
    "plt.title(\"Distribution of Diamond Colors\")"
   ]
  },
  {
   "cell_type": "markdown",
   "id": "74dd5b9c",
   "metadata": {},
   "source": [
    "# heatmap\n",
    "Correlation Heatmap:\n",
    "\n",
    "The heatmap illustrates the correlation between different numerical features in the dataset. For example, there may be a positive correlation between carat weight and diamond price, as larger diamonds tend to be more expensive."
   ]
  },
  {
   "cell_type": "code",
   "execution_count": 13,
   "id": "a8c081cc",
   "metadata": {},
   "outputs": [
    {
     "data": {
      "image/png": "[encoded data removed]",
      "text/plain": [
       "<Figure size 432x288 with 2 Axes>"
      ]
     },
     "metadata": {
      "needs_background": "light"
     },
     "output_type": "display_data"
    }
   ],
   "source": [
    "plt.subplot\n",
    "sns.heatmap(data.corr(), annot=True, cmap='coolwarm')\n",
    "plt.title(\"Correlation Heatmap\")\n",
    "\n",
    "# Adjusting the layout for better visualization\n",
    "plt.tight_layout()"
   ]
  },
  {
   "cell_type": "markdown",
   "id": "6c6a5ef5",
   "metadata": {},
   "source": [
    "# scatter plot\n",
    "Scatter Plot of Carat Weight vs. Diamond Price:\n",
    "\n",
    "The scatter plot shows a positive correlation between carat weight and diamond price, which is consistent with expectations. Larger diamonds generally have higher prices."
   ]
  },
  {
   "cell_type": "code",
   "execution_count": 14,
   "id": "7bae7b58",
   "metadata": {},
   "outputs": [
    {
     "data": {
      "text/plain": [
       "Text(0.5, 1.0, 'Scatter Plot of Carat Weight vs Diamond Price')"
      ]
     },
     "execution_count": 14,
     "metadata": {},
     "output_type": "execute_result"
    },
    {
     "data": {
      "image/png": "[encoded data removed]",
      "text/plain": [
       "<Figure size 432x288 with 1 Axes>"
      ]
     },
     "metadata": {
      "needs_background": "light"
     },
     "output_type": "display_data"
    }
   ],
   "source": [
    "plt.subplot\n",
    "plt.scatter(data['carat'], data['price'], alpha=0.5)\n",
    "plt.xlabel('Carat Weight')\n",
    "plt.ylabel('Diamond Price')\n",
    "plt.title('Scatter Plot of Carat Weight vs Diamond Price')"
   ]
  },
  {
   "cell_type": "markdown",
   "id": "c697aac6",
   "metadata": {},
   "source": [
    "# boxplot\n",
    "Box Plot of Diamond Price by Cut:\n",
    "\n",
    "The box plot provides insights into how diamond prices vary based on the cut. It appears that certain cuts, such as 'Premium' and 'Very Good,' have a wider range of prices compared to others. Understanding these variations is crucial for assessing the impact of cut on diamond prices."
   ]
  },
  {
   "cell_type": "code",
   "execution_count": 15,
   "id": "724f67cf",
   "metadata": {},
   "outputs": [
    {
     "data": {
      "image/png": "[encoded data removed]",
      "text/plain": [
       "<Figure size 864x432 with 1 Axes>"
      ]
     },
     "metadata": {
      "needs_background": "light"
     },
     "output_type": "display_data"
    }
   ],
   "source": [
    "plt.figure(figsize=[12, 6])\n",
    "sns.boxplot(x='cut', y='price', data=data, palette='viridis')\n",
    "plt.title('Box Plot of Diamond Price by Cut')\n",
    "plt.xlabel('Cut')\n",
    "plt.ylabel('Diamond Price')\n",
    "\n",
    "plt.tight_layout()\n",
    "plt.show()"
   ]
  },
  {
   "cell_type": "markdown",
   "id": "be61b761",
   "metadata": {},
   "source": [
    "# Conclusions based on the visualizations\n",
    "Conclusions:\n",
    "\n",
    "Carat weight is positively correlated with diamond price.\n",
    "\n",
    "The dataset contains diamonds with a variety of colors, with certain colors being more prevalent than others.\n",
    "\n",
    "The distribution of diamond prices and carat weights aligns with expectations.\n",
    "The cut of a diamond seems to influence its price, with some cuts showing a wider range of prices than others.\n",
    "\n",
    "These visualizations provide valuable insights into the dataset and can guide further analysis. \n"
   ]
  },
  {
   "cell_type": "markdown",
   "id": "50a2e0e5",
   "metadata": {},
   "source": [
    "# Label Encoder converting categorical data into numeric form"
   ]
  },
  {
   "cell_type": "code",
   "execution_count": 16,
   "id": "d2a9a522",
   "metadata": {},
   "outputs": [
    {
     "data": {
      "text/plain": [
       "array(['Fair', 'Good', 'Ideal', 'Premium', 'Very Good'], dtype=object)"
      ]
     },
     "execution_count": 16,
     "metadata": {},
     "output_type": "execute_result"
    }
   ],
   "source": [
    "#Here, we have used LabelEncoder class, is created and assigned to the variable l1. This step will be used to perform label encoding.The fit_transform method of the LabelEncoder class is applied to the 'cut' column of the DataFrame data. This method fits the encoder to the unique values in the 'cut' column and then transforms those values into numerical labels. \n",
    "from sklearn.preprocessing import LabelEncoder\n",
    "l1= LabelEncoder()\n",
    "label=l1.fit_transform(data['cut'])\n",
    "l1.classes_"
   ]
  },
  {
   "cell_type": "code",
   "execution_count": 17,
   "id": "f84fb931",
   "metadata": {},
   "outputs": [
    {
     "data": {
      "text/plain": [
       "array([2, 3, 1, ..., 4, 3, 2])"
      ]
     },
     "execution_count": 17,
     "metadata": {},
     "output_type": "execute_result"
    }
   ],
   "source": [
    "label"
   ]
  },
  {
   "cell_type": "code",
   "execution_count": 18,
   "id": "47e475c7",
   "metadata": {},
   "outputs": [],
   "source": [
    "#We have made use of data['cut_label'] = label is assigning the encoded labels obtained from the LabelEncoder to a new column named 'cut_label' in the DataFrame data.\n",
    "data['cut_label']=label"
   ]
  },
  {
   "cell_type": "code",
   "execution_count": 19,
   "id": "ba0eb927",
   "metadata": {},
   "outputs": [
    {
     "data": {
      "text/html": [
       "<div>\n",
       "<style scoped>\n",
       "    .dataframe tbody tr th:only-of-type {\n",
       "        vertical-align: middle;\n",
       "    }\n",
       "\n",
       "    .dataframe tbody tr th {\n",
       "        vertical-align: top;\n",
       "    }\n",
       "\n",
       "    .dataframe thead th {\n",
       "        text-align: right;\n",
       "    }\n",
       "</style>\n",
       "<table border=\"1\" class=\"dataframe\">\n",
       "  <thead>\n",
       "    <tr style=\"text-align: right;\">\n",
       "      <th></th>\n",
       "      <th>price</th>\n",
       "      <th>carat</th>\n",
       "      <th>cut</th>\n",
       "      <th>color</th>\n",
       "      <th>clarity</th>\n",
       "      <th>cut_label</th>\n",
       "    </tr>\n",
       "  </thead>\n",
       "  <tbody>\n",
       "    <tr>\n",
       "      <th>0</th>\n",
       "      <td>326.0</td>\n",
       "      <td>0.23</td>\n",
       "      <td>Ideal</td>\n",
       "      <td>E</td>\n",
       "      <td>SI2</td>\n",
       "      <td>2</td>\n",
       "    </tr>\n",
       "    <tr>\n",
       "      <th>1</th>\n",
       "      <td>326.0</td>\n",
       "      <td>0.21</td>\n",
       "      <td>Premium</td>\n",
       "      <td>E</td>\n",
       "      <td>SI1</td>\n",
       "      <td>3</td>\n",
       "    </tr>\n",
       "  </tbody>\n",
       "</table>\n",
       "</div>"
      ],
      "text/plain": [
       "   price  carat      cut color clarity  cut_label\n",
       "0  326.0   0.23    Ideal     E     SI2          2\n",
       "1  326.0   0.21  Premium     E     SI1          3"
      ]
     },
     "execution_count": 19,
     "metadata": {},
     "output_type": "execute_result"
    }
   ],
   "source": [
    "data.head(2)"
   ]
  },
  {
   "cell_type": "code",
   "execution_count": 20,
   "id": "b90c35df",
   "metadata": {},
   "outputs": [
    {
     "data": {
      "text/html": [
       "<div>\n",
       "<style scoped>\n",
       "    .dataframe tbody tr th:only-of-type {\n",
       "        vertical-align: middle;\n",
       "    }\n",
       "\n",
       "    .dataframe tbody tr th {\n",
       "        vertical-align: top;\n",
       "    }\n",
       "\n",
       "    .dataframe thead th {\n",
       "        text-align: right;\n",
       "    }\n",
       "</style>\n",
       "<table border=\"1\" class=\"dataframe\">\n",
       "  <thead>\n",
       "    <tr style=\"text-align: right;\">\n",
       "      <th></th>\n",
       "      <th>price</th>\n",
       "      <th>carat</th>\n",
       "      <th>cut</th>\n",
       "      <th>color</th>\n",
       "      <th>clarity</th>\n",
       "      <th>cut_label</th>\n",
       "      <th>clarity_label</th>\n",
       "    </tr>\n",
       "  </thead>\n",
       "  <tbody>\n",
       "    <tr>\n",
       "      <th>0</th>\n",
       "      <td>326.0</td>\n",
       "      <td>0.23</td>\n",
       "      <td>Ideal</td>\n",
       "      <td>E</td>\n",
       "      <td>SI2</td>\n",
       "      <td>2</td>\n",
       "      <td>3</td>\n",
       "    </tr>\n",
       "    <tr>\n",
       "      <th>1</th>\n",
       "      <td>326.0</td>\n",
       "      <td>0.21</td>\n",
       "      <td>Premium</td>\n",
       "      <td>E</td>\n",
       "      <td>SI1</td>\n",
       "      <td>3</td>\n",
       "      <td>2</td>\n",
       "    </tr>\n",
       "  </tbody>\n",
       "</table>\n",
       "</div>"
      ],
      "text/plain": [
       "   price  carat      cut color clarity  cut_label  clarity_label\n",
       "0  326.0   0.23    Ideal     E     SI2          2              3\n",
       "1  326.0   0.21  Premium     E     SI1          3              2"
      ]
     },
     "execution_count": 20,
     "metadata": {},
     "output_type": "execute_result"
    }
   ],
   "source": [
    "#LabelEncoder class is created and assigned to the variable l2.The fit_transform method of the LabelEncoder class is applied to the 'clarity' column of the DataFrame data. This method fits the encoder to the unique values in the 'clarity' column and then transforms those values into numerical labels. \n",
    "l2=LabelEncoder()\n",
    "label1=l2.fit_transform(data['clarity'])\n",
    "data['clarity_label']=label1\n",
    "data.head(2)"
   ]
  },
  {
   "cell_type": "code",
   "execution_count": 21,
   "id": "19622f45",
   "metadata": {},
   "outputs": [],
   "source": [
    "#The map function is applied to the 'color' column, and it replaces each value in the column based on the mapping specified in the dictionary. For example, 'D' is replaced with 1, 'E' is replaced with 2, and so on. The 'NA' is replaced with 8.\n",
    "data['color']=data['color'].map({'D':1,'E':2,'F':3,'G':4,'H':5,'I':6,'J':7,'NA':8}) #.astype(int)"
   ]
  },
  {
   "cell_type": "code",
   "execution_count": 22,
   "id": "95fed024",
   "metadata": {},
   "outputs": [
    {
     "data": {
      "text/plain": [
       "0        2\n",
       "1        2\n",
       "2        2\n",
       "3        6\n",
       "4        7\n",
       "        ..\n",
       "53935    1\n",
       "53936    1\n",
       "53937    1\n",
       "53938    5\n",
       "53939    1\n",
       "Name: color, Length: 53940, dtype: int64"
      ]
     },
     "execution_count": 22,
     "metadata": {},
     "output_type": "execute_result"
    }
   ],
   "source": [
    "# The fillna method is applied to the 'color' column. This method is used to fill missing (NaN) values with the specified value, in this case, 0.\n",
    "data['color'].fillna(0)"
   ]
  },
  {
   "cell_type": "code",
   "execution_count": 23,
   "id": "aa0e13f1",
   "metadata": {},
   "outputs": [
    {
     "data": {
      "text/plain": [
       "0"
      ]
     },
     "execution_count": 23,
     "metadata": {},
     "output_type": "execute_result"
    }
   ],
   "source": [
    "#The code data['color'].isnull().sum() is checking the number of missing (NaN) values in the 'color' column of the DataFrame data.\n",
    "data['color'].isnull().sum()"
   ]
  },
  {
   "cell_type": "code",
   "execution_count": 24,
   "id": "11c8cf26",
   "metadata": {},
   "outputs": [
    {
     "data": {
      "text/html": [
       "<div>\n",
       "<style scoped>\n",
       "    .dataframe tbody tr th:only-of-type {\n",
       "        vertical-align: middle;\n",
       "    }\n",
       "\n",
       "    .dataframe tbody tr th {\n",
       "        vertical-align: top;\n",
       "    }\n",
       "\n",
       "    .dataframe thead th {\n",
       "        text-align: right;\n",
       "    }\n",
       "</style>\n",
       "<table border=\"1\" class=\"dataframe\">\n",
       "  <thead>\n",
       "    <tr style=\"text-align: right;\">\n",
       "      <th></th>\n",
       "      <th>price</th>\n",
       "      <th>carat</th>\n",
       "      <th>cut</th>\n",
       "      <th>color</th>\n",
       "      <th>clarity</th>\n",
       "      <th>cut_label</th>\n",
       "      <th>clarity_label</th>\n",
       "    </tr>\n",
       "  </thead>\n",
       "  <tbody>\n",
       "    <tr>\n",
       "      <th>0</th>\n",
       "      <td>326.0</td>\n",
       "      <td>0.23</td>\n",
       "      <td>Ideal</td>\n",
       "      <td>2</td>\n",
       "      <td>SI2</td>\n",
       "      <td>2</td>\n",
       "      <td>3</td>\n",
       "    </tr>\n",
       "    <tr>\n",
       "      <th>1</th>\n",
       "      <td>326.0</td>\n",
       "      <td>0.21</td>\n",
       "      <td>Premium</td>\n",
       "      <td>2</td>\n",
       "      <td>SI1</td>\n",
       "      <td>3</td>\n",
       "      <td>2</td>\n",
       "    </tr>\n",
       "  </tbody>\n",
       "</table>\n",
       "</div>"
      ],
      "text/plain": [
       "   price  carat      cut  color clarity  cut_label  clarity_label\n",
       "0  326.0   0.23    Ideal      2     SI2          2              3\n",
       "1  326.0   0.21  Premium      2     SI1          3              2"
      ]
     },
     "execution_count": 24,
     "metadata": {},
     "output_type": "execute_result"
    }
   ],
   "source": [
    "data.head(2)"
   ]
  },
  {
   "cell_type": "markdown",
   "id": "504ae146",
   "metadata": {},
   "source": [
    "# Creating dependent and independent variable"
   ]
  },
  {
   "cell_type": "code",
   "execution_count": 25,
   "id": "0236bb21",
   "metadata": {},
   "outputs": [
    {
     "data": {
      "text/plain": [
       "0    326.0\n",
       "Name: price, dtype: float64"
      ]
     },
     "execution_count": 25,
     "metadata": {},
     "output_type": "execute_result"
    }
   ],
   "source": [
    "y=data['price']\n",
    "y.head(1)"
   ]
  },
  {
   "cell_type": "code",
   "execution_count": 26,
   "id": "24180e35",
   "metadata": {},
   "outputs": [
    {
     "data": {
      "text/html": [
       "<div>\n",
       "<style scoped>\n",
       "    .dataframe tbody tr th:only-of-type {\n",
       "        vertical-align: middle;\n",
       "    }\n",
       "\n",
       "    .dataframe tbody tr th {\n",
       "        vertical-align: top;\n",
       "    }\n",
       "\n",
       "    .dataframe thead th {\n",
       "        text-align: right;\n",
       "    }\n",
       "</style>\n",
       "<table border=\"1\" class=\"dataframe\">\n",
       "  <thead>\n",
       "    <tr style=\"text-align: right;\">\n",
       "      <th></th>\n",
       "      <th>carat</th>\n",
       "      <th>color</th>\n",
       "      <th>cut_label</th>\n",
       "      <th>clarity_label</th>\n",
       "    </tr>\n",
       "  </thead>\n",
       "  <tbody>\n",
       "    <tr>\n",
       "      <th>0</th>\n",
       "      <td>0.23</td>\n",
       "      <td>2</td>\n",
       "      <td>2</td>\n",
       "      <td>3</td>\n",
       "    </tr>\n",
       "  </tbody>\n",
       "</table>\n",
       "</div>"
      ],
      "text/plain": [
       "   carat  color  cut_label  clarity_label\n",
       "0   0.23      2          2              3"
      ]
     },
     "execution_count": 26,
     "metadata": {},
     "output_type": "execute_result"
    }
   ],
   "source": [
    "#in this step we are creating a new DataFrame x by dropping the specified columns \n",
    "x=data.drop(['price','cut','clarity'],axis=1)\n",
    "x.head(1)"
   ]
  },
  {
   "cell_type": "markdown",
   "id": "d808f671",
   "metadata": {},
   "source": [
    "# Training Dataset"
   ]
  },
  {
   "cell_type": "code",
   "execution_count": 27,
   "id": "42960550",
   "metadata": {},
   "outputs": [],
   "source": [
    "#The train_test_split is a function that is commonly used to split a dataset into training and testing sets for machine learning.\n",
    "from sklearn.model_selection import train_test_split\n",
    "x_train,x_test,y_train,y_test=train_test_split(x,y,train_size=0.8,random_state=42)"
   ]
  },
  {
   "cell_type": "code",
   "execution_count": 28,
   "id": "0b7ac0e3",
   "metadata": {},
   "outputs": [
    {
     "data": {
      "text/plain": [
       "43152"
      ]
     },
     "execution_count": 28,
     "metadata": {},
     "output_type": "execute_result"
    }
   ],
   "source": [
    "# here this step gives you the number of samples (rows) in your training set. \n",
    "len(x_train)"
   ]
  },
  {
   "cell_type": "code",
   "execution_count": 29,
   "id": "66ffae05",
   "metadata": {},
   "outputs": [
    {
     "data": {
      "text/plain": [
       "10788"
      ]
     },
     "execution_count": 29,
     "metadata": {},
     "output_type": "execute_result"
    }
   ],
   "source": [
    "len(y_test)"
   ]
  },
  {
   "cell_type": "code",
   "execution_count": 30,
   "id": "2e477680",
   "metadata": {},
   "outputs": [
    {
     "data": {
      "text/plain": [
       "53940"
      ]
     },
     "execution_count": 30,
     "metadata": {},
     "output_type": "execute_result"
    }
   ],
   "source": [
    "len(data)"
   ]
  },
  {
   "cell_type": "code",
   "execution_count": 31,
   "id": "8ec3d615",
   "metadata": {},
   "outputs": [
    {
     "data": {
      "text/html": [
       "<div>\n",
       "<style scoped>\n",
       "    .dataframe tbody tr th:only-of-type {\n",
       "        vertical-align: middle;\n",
       "    }\n",
       "\n",
       "    .dataframe tbody tr th {\n",
       "        vertical-align: top;\n",
       "    }\n",
       "\n",
       "    .dataframe thead th {\n",
       "        text-align: right;\n",
       "    }\n",
       "</style>\n",
       "<table border=\"1\" class=\"dataframe\">\n",
       "  <thead>\n",
       "    <tr style=\"text-align: right;\">\n",
       "      <th></th>\n",
       "      <th>price</th>\n",
       "      <th>carat</th>\n",
       "      <th>cut</th>\n",
       "      <th>color</th>\n",
       "      <th>clarity</th>\n",
       "      <th>cut_label</th>\n",
       "      <th>clarity_label</th>\n",
       "    </tr>\n",
       "  </thead>\n",
       "  <tbody>\n",
       "    <tr>\n",
       "      <th>0</th>\n",
       "      <td>326.0</td>\n",
       "      <td>0.23</td>\n",
       "      <td>Ideal</td>\n",
       "      <td>2</td>\n",
       "      <td>SI2</td>\n",
       "      <td>2</td>\n",
       "      <td>3</td>\n",
       "    </tr>\n",
       "    <tr>\n",
       "      <th>1</th>\n",
       "      <td>326.0</td>\n",
       "      <td>0.21</td>\n",
       "      <td>Premium</td>\n",
       "      <td>2</td>\n",
       "      <td>SI1</td>\n",
       "      <td>3</td>\n",
       "      <td>2</td>\n",
       "    </tr>\n",
       "    <tr>\n",
       "      <th>2</th>\n",
       "      <td>327.0</td>\n",
       "      <td>0.23</td>\n",
       "      <td>Good</td>\n",
       "      <td>2</td>\n",
       "      <td>VS1</td>\n",
       "      <td>1</td>\n",
       "      <td>4</td>\n",
       "    </tr>\n",
       "    <tr>\n",
       "      <th>3</th>\n",
       "      <td>334.0</td>\n",
       "      <td>0.29</td>\n",
       "      <td>Premium</td>\n",
       "      <td>6</td>\n",
       "      <td>VS2</td>\n",
       "      <td>3</td>\n",
       "      <td>5</td>\n",
       "    </tr>\n",
       "    <tr>\n",
       "      <th>4</th>\n",
       "      <td>335.0</td>\n",
       "      <td>0.31</td>\n",
       "      <td>Good</td>\n",
       "      <td>7</td>\n",
       "      <td>SI2</td>\n",
       "      <td>1</td>\n",
       "      <td>3</td>\n",
       "    </tr>\n",
       "  </tbody>\n",
       "</table>\n",
       "</div>"
      ],
      "text/plain": [
       "   price  carat      cut  color clarity  cut_label  clarity_label\n",
       "0  326.0   0.23    Ideal      2     SI2          2              3\n",
       "1  326.0   0.21  Premium      2     SI1          3              2\n",
       "2  327.0   0.23     Good      2     VS1          1              4\n",
       "3  334.0   0.29  Premium      6     VS2          3              5\n",
       "4  335.0   0.31     Good      7     SI2          1              3"
      ]
     },
     "execution_count": 31,
     "metadata": {},
     "output_type": "execute_result"
    }
   ],
   "source": [
    "data.head()"
   ]
  },
  {
   "cell_type": "code",
   "execution_count": 32,
   "id": "57b6e741",
   "metadata": {},
   "outputs": [
    {
     "data": {
      "text/html": [
       "<div>\n",
       "<style scoped>\n",
       "    .dataframe tbody tr th:only-of-type {\n",
       "        vertical-align: middle;\n",
       "    }\n",
       "\n",
       "    .dataframe tbody tr th {\n",
       "        vertical-align: top;\n",
       "    }\n",
       "\n",
       "    .dataframe thead th {\n",
       "        text-align: right;\n",
       "    }\n",
       "</style>\n",
       "<table border=\"1\" class=\"dataframe\">\n",
       "  <thead>\n",
       "    <tr style=\"text-align: right;\">\n",
       "      <th></th>\n",
       "      <th>price</th>\n",
       "      <th>carat</th>\n",
       "      <th>cut</th>\n",
       "      <th>color</th>\n",
       "      <th>clarity</th>\n",
       "      <th>cut_label</th>\n",
       "      <th>clarity_label</th>\n",
       "    </tr>\n",
       "  </thead>\n",
       "  <tbody>\n",
       "    <tr>\n",
       "      <th>53935</th>\n",
       "      <td>2757.0</td>\n",
       "      <td>0.72</td>\n",
       "      <td>Ideal</td>\n",
       "      <td>1</td>\n",
       "      <td>SI1</td>\n",
       "      <td>2</td>\n",
       "      <td>2</td>\n",
       "    </tr>\n",
       "    <tr>\n",
       "      <th>53936</th>\n",
       "      <td>2757.0</td>\n",
       "      <td>0.72</td>\n",
       "      <td>Good</td>\n",
       "      <td>1</td>\n",
       "      <td>SI1</td>\n",
       "      <td>1</td>\n",
       "      <td>2</td>\n",
       "    </tr>\n",
       "    <tr>\n",
       "      <th>53937</th>\n",
       "      <td>2757.0</td>\n",
       "      <td>0.70</td>\n",
       "      <td>Very Good</td>\n",
       "      <td>1</td>\n",
       "      <td>SI1</td>\n",
       "      <td>4</td>\n",
       "      <td>2</td>\n",
       "    </tr>\n",
       "    <tr>\n",
       "      <th>53938</th>\n",
       "      <td>2757.0</td>\n",
       "      <td>0.86</td>\n",
       "      <td>Premium</td>\n",
       "      <td>5</td>\n",
       "      <td>SI2</td>\n",
       "      <td>3</td>\n",
       "      <td>3</td>\n",
       "    </tr>\n",
       "    <tr>\n",
       "      <th>53939</th>\n",
       "      <td>2757.0</td>\n",
       "      <td>0.75</td>\n",
       "      <td>Ideal</td>\n",
       "      <td>1</td>\n",
       "      <td>SI2</td>\n",
       "      <td>2</td>\n",
       "      <td>3</td>\n",
       "    </tr>\n",
       "  </tbody>\n",
       "</table>\n",
       "</div>"
      ],
      "text/plain": [
       "        price  carat        cut  color clarity  cut_label  clarity_label\n",
       "53935  2757.0   0.72      Ideal      1     SI1          2              2\n",
       "53936  2757.0   0.72       Good      1     SI1          1              2\n",
       "53937  2757.0   0.70  Very Good      1     SI1          4              2\n",
       "53938  2757.0   0.86    Premium      5     SI2          3              3\n",
       "53939  2757.0   0.75      Ideal      1     SI2          2              3"
      ]
     },
     "execution_count": 32,
     "metadata": {},
     "output_type": "execute_result"
    }
   ],
   "source": [
    "#it shows the default last 5 rows of the dataset. \n",
    "data.tail()"
   ]
  },
  {
   "cell_type": "markdown",
   "id": "0ab9f2f1",
   "metadata": {},
   "source": [
    "# Standard Scaler Method\n",
    "Reason of using standard scaling\n",
    "\n",
    "1.Standard scaling ensures that all features are on a comparable scale. When features are measured in different units or have different ranges, some features may dominate the learning process simply due to their larger numerical values. Scaling prevents this issue and allows each feature to contribute more equally to the model training.\n",
    "\n",
    "2.Regularization techniques, such as L1 and L2 regularization, are sensitive to the scale of the features. Standard scaling ensures that regularization is applied fairly to all features, preventing certain features from being unfairly penalized or favored based on their scale.\n",
    "\n",
    "3.Algorithms that rely on distances between data points, such as k-nearest neighbors (KNN) or support vector machines (SVM), can be sensitive to the scale of features. Standard scaling helps maintain the integrity of distance metrics.\n"
   ]
  },
  {
   "cell_type": "code",
   "execution_count": 33,
   "id": "883452c9",
   "metadata": {},
   "outputs": [],
   "source": [
    "#An instance of the StandardScaler class is created. This instance will be used to scale (standardize) the features.The fit_transform method of the StandardScaler class is applied to the training set (x_train). This method computes the mean and standard deviation necessary for standardization and then transforms the features in the training set using these computed values.\n",
    "from sklearn.preprocessing import StandardScaler\n",
    "scaler=StandardScaler()\n",
    "x_train=scaler.fit_transform(x_train)\n",
    "x_test=scaler.fit_transform(x_test)"
   ]
  },
  {
   "cell_type": "markdown",
   "id": "ca0204ae",
   "metadata": {},
   "source": [
    "# Linear Regression Algorithm"
   ]
  },
  {
   "cell_type": "code",
   "execution_count": 34,
   "id": "c8af7d82",
   "metadata": {},
   "outputs": [],
   "source": [
    "#The LinearRegression class is created and assigned to the variable linreg. This instance will be used to build the linear regression model.\n",
    "from sklearn.linear_model import LinearRegression\n",
    "linreg=LinearRegression()\n",
    "linreg.fit(x_train,y_train)\n",
    "pred=linreg.predict(x_test)"
   ]
  },
  {
   "cell_type": "markdown",
   "id": "660a3371",
   "metadata": {},
   "source": [
    "# Accuracy score of Linear Regression\n"
   ]
  },
  {
   "cell_type": "code",
   "execution_count": 35,
   "id": "73dd1c60",
   "metadata": {},
   "outputs": [
    {
     "name": "stdout",
     "output_type": "stream",
     "text": [
      "87.76517206528275\n"
     ]
    }
   ],
   "source": [
    "#This step is used to check the accuracy.\n",
    "from sklearn.metrics import r2_score\n",
    "lr=r2_score(y_test,pred)*100\n",
    "print(lr)"
   ]
  },
  {
   "cell_type": "markdown",
   "id": "c74f7a89",
   "metadata": {},
   "source": [
    "# Decision Tree Regressor algorithm"
   ]
  },
  {
   "cell_type": "code",
   "execution_count": 36,
   "id": "32ae0ea7",
   "metadata": {},
   "outputs": [],
   "source": [
    "# here the DecisionTreeRegressor class is created and assigned to the variable reg. \n",
    "from sklearn.tree import DecisionTreeRegressor\n",
    "reg=DecisionTreeRegressor()\n",
    "reg.fit(x_train,y_train)\n",
    "pred1=reg.predict(x_test)"
   ]
  },
  {
   "cell_type": "markdown",
   "id": "53054366",
   "metadata": {},
   "source": [
    "# Accuracy score of Decision Tree regressor model"
   ]
  },
  {
   "cell_type": "code",
   "execution_count": 37,
   "id": "bc1cf9aa",
   "metadata": {},
   "outputs": [
    {
     "name": "stdout",
     "output_type": "stream",
     "text": [
      "97.14135122401221\n"
     ]
    }
   ],
   "source": [
    "# This step is used to check the accuracy score.\n",
    "from sklearn.metrics import r2_score\n",
    "dtr=r2_score(y_test,pred1)*100\n",
    "print(dtr)"
   ]
  },
  {
   "cell_type": "markdown",
   "id": "5edfa940",
   "metadata": {},
   "source": [
    "# Random Forest Regressor Algorithm"
   ]
  },
  {
   "cell_type": "code",
   "execution_count": 38,
   "id": "f7d2a8eb",
   "metadata": {},
   "outputs": [],
   "source": [
    "#the RandomForestRegressor, creating an instance of 50 (n_estimators=50), fits the model to the training data, and then predicts the target variable on the testing set , storing the predictions in the variable pred2. \n",
    "from sklearn.ensemble import RandomForestRegressor\n",
    "rf=RandomForestRegressor(n_estimators=50)\n",
    "rf.fit(x_train,y_train)\n",
    "pred2=rf.predict(x_test)"
   ]
  },
  {
   "cell_type": "markdown",
   "id": "3b8f5670",
   "metadata": {},
   "source": [
    "# Accuracy score of Random Forest Regressor Model"
   ]
  },
  {
   "cell_type": "code",
   "execution_count": 39,
   "id": "b934bf4a",
   "metadata": {},
   "outputs": [
    {
     "name": "stdout",
     "output_type": "stream",
     "text": [
      "97.77277074405882\n"
     ]
    }
   ],
   "source": [
    "# This step is used to check the accuracy score.\n",
    "from sklearn.metrics import r2_score\n",
    "rfr=r2_score(y_test,pred2)*100\n",
    "print(rfr)"
   ]
  },
  {
   "cell_type": "markdown",
   "id": "c8686674",
   "metadata": {},
   "source": [
    "# Lasso regression algorithm"
   ]
  },
  {
   "cell_type": "code",
   "execution_count": 40,
   "id": "db2055c6",
   "metadata": {},
   "outputs": [],
   "source": [
    "#the Lasso regression model, creates an instance (lassoreg = Lasso()), fits the model to the training data (lassoreg.fit(x_train, y_train)), and then predicts the target variable on the testing set (pred4 = lassoreg.predict(x_test)), storing the predictions in the variable pred4.\n",
    "from sklearn.linear_model import Lasso\n",
    "lassoreg=Lasso()\n",
    "lassoreg.fit(x_train,y_train)\n",
    "pred4=lassoreg.predict(x_test)"
   ]
  },
  {
   "cell_type": "markdown",
   "id": "ce4b78cd",
   "metadata": {},
   "source": [
    "# Accuracy Score of Lasso Algorithm"
   ]
  },
  {
   "cell_type": "code",
   "execution_count": 41,
   "id": "473558bb",
   "metadata": {},
   "outputs": [
    {
     "name": "stdout",
     "output_type": "stream",
     "text": [
      "87.76523078289839\n"
     ]
    }
   ],
   "source": [
    "#This step is used to check the accuracy score.\n",
    "lasso=r2_score(y_test,pred4)*100\n",
    "print(lasso)"
   ]
  },
  {
   "cell_type": "markdown",
   "id": "1a27d38c",
   "metadata": {},
   "source": [
    "# Ridge regression algorithm"
   ]
  },
  {
   "cell_type": "code",
   "execution_count": 42,
   "id": "95f7eca4",
   "metadata": {},
   "outputs": [],
   "source": [
    "#The code uses the Ridge regression model, creates an instance (ridreg = Ridge()), fits the model to the training data (ridreg.fit(x_train, y_train)), and then predicts the target variable on the testing set (pred4 = ridreg.predict(x_test)), storing the predictions in the variable pred4.\n",
    "from sklearn.linear_model import Ridge\n",
    "ridreg=Ridge()\n",
    "ridreg.fit(x_train,y_train)\n",
    "pred4=ridreg.predict(x_test)"
   ]
  },
  {
   "cell_type": "markdown",
   "id": "7e61030e",
   "metadata": {},
   "source": [
    "# Accuracy Score of Ridge Algorithm"
   ]
  },
  {
   "cell_type": "code",
   "execution_count": 43,
   "id": "36ff8755",
   "metadata": {},
   "outputs": [
    {
     "name": "stdout",
     "output_type": "stream",
     "text": [
      "87.76517737916106\n"
     ]
    }
   ],
   "source": [
    "from sklearn.metrics import r2_score\n",
    "rid=r2_score(y_test,pred4)*100\n",
    "print(rid)"
   ]
  },
  {
   "cell_type": "markdown",
   "id": "cf0f3c85",
   "metadata": {},
   "source": [
    "# SVR algorithm"
   ]
  },
  {
   "cell_type": "code",
   "execution_count": 44,
   "id": "e7010f0b",
   "metadata": {},
   "outputs": [],
   "source": [
    "#the Support Vector Machine for Regression (SVR), creates an instance (svr = SVR()), fits the model to the training data (svr.fit(x_train, y_train)), and then predicts the target variable on the testing set (pred5 = svr.predict(x_test)), storing the predictions in the variable pred5. \n",
    "from sklearn.svm import SVR\n",
    "svr=SVR()\n",
    "svr.fit(x_train,y_train)\n",
    "pred5=svr.predict(x_test)"
   ]
  },
  {
   "cell_type": "code",
   "execution_count": 45,
   "id": "e630f559",
   "metadata": {},
   "outputs": [
    {
     "name": "stdout",
     "output_type": "stream",
     "text": [
      "48.377356598766276\n"
     ]
    }
   ],
   "source": [
    "svrscore=r2_score(y_test,pred5)*100\n",
    "print(svrscore)"
   ]
  },
  {
   "cell_type": "markdown",
   "id": "c305a496",
   "metadata": {},
   "source": [
    "# Overall accuracy Score"
   ]
  },
  {
   "cell_type": "code",
   "execution_count": 46,
   "id": "c0481590",
   "metadata": {},
   "outputs": [
    {
     "name": "stdout",
     "output_type": "stream",
     "text": [
      "LinearRegression 87.76517206528275\n",
      "DecisionTree 97.14135122401221\n",
      "RandomForestClassifier 97.77277074405882\n",
      "Ridge Linear model 87.76517737916106\n",
      "Lasso Linear model 87.76523078289839\n",
      "SupportVectorRegressor 48.377356598766276\n"
     ]
    }
   ],
   "source": [
    "#This step is used to check which model gives us the best accuracy.\n",
    "print(\"LinearRegression\",lr)\n",
    "print(\"DecisionTree\",dtr)\n",
    "print(\"RandomForestClassifier\",rfr)\n",
    "print(\"Ridge Linear model\",rid)\n",
    "print(\"Lasso Linear model\",lasso)\n",
    "print(\"SupportVectorRegressor\",svrscore)\n"
   ]
  },
  {
   "cell_type": "markdown",
   "id": "25a98f86",
   "metadata": {},
   "source": [
    "# Conclusion\n",
    "\n",
    "So here we apply all Regression Algorithm one by one on available data, we can conclude that we get better accuracy in Random Forest Classifier algorithm. Its 97.75%, when we apply Random Forest Classifier algorithm on model for prediction we get better prediction as compare to other algorithm.We did apply scaling method on data,because when we use scaling data for algorithm that time we are getting high accuracy as compared to normal data."
   ]
  },
  {
   "cell_type": "markdown",
   "id": "05d1b9fd",
   "metadata": {},
   "source": [
    "# Prediction Part"
   ]
  },
  {
   "cell_type": "code",
   "execution_count": 47,
   "id": "5783823c",
   "metadata": {},
   "outputs": [
    {
     "name": "stdout",
     "output_type": "stream",
     "text": [
      "Enter the value of carat:0.23\n",
      "Enter the value of cut:3\n",
      "Enter the value of clarity:2\n",
      "Enter the value of color:3\n",
      "Approximately Price of Diamond is: [3706.49333333] Rs\n"
     ]
    }
   ],
   "source": [
    "#The step shown below defines a function prediction that takes user input for the features carat, cut, clarity, and color. It then uses a RandomForestRegressor (rf) to predict the diamond price based on the provided feature values. Finally, the predicted price is printed. The function is called with predi = prediction()\n",
    "def prediction():\n",
    "    carat=(input(\"Enter the value of carat:\"))\n",
    "    cut=(input(\"Enter the value of cut:\"))\n",
    "    clarity=(input(\"Enter the value of clarity:\"))\n",
    "    color=(input(\"Enter the value of color:\"))\n",
    "    \n",
    "    \n",
    "    price=rf.predict([[carat,cut,clarity,color]])\n",
    "    \n",
    "    print(\"Approximately Price of Diamond is:\",price,'Rs')\n",
    "    \n",
    "    \n",
    "predi=prediction()\n",
    "\n",
    "predi"
   ]
  },
  {
   "cell_type": "code",
   "execution_count": null,
   "id": "8bee6f27",
   "metadata": {},
   "outputs": [],
   "source": []
  },
  {
   "cell_type": "code",
   "execution_count": null,
   "id": "cac4063f",
   "metadata": {},
   "outputs": [],
   "source": []
  }
 ],
 "metadata": {
  "kernelspec": {
   "display_name": "Python 3 (ipykernel)",
   "language": "python",
   "name": "python3"
  },
  "language_info": {
   "codemirror_mode": {
    "name": "ipython",
    "version": 3
   },
   "file_extension": ".py",
   "mimetype": "text/x-python",
   "name": "python",
   "nbconvert_exporter": "python",
   "pygments_lexer": "ipython3",
   "version": "3.9.12"
  }
 },
 "nbformat": 4,
 "nbformat_minor": 5
}
